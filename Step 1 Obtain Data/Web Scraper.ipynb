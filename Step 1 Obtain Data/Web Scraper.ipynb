{
 "cells": [
  {
   "cell_type": "code",
   "execution_count": 12,
   "id": "36e11da7",
   "metadata": {},
   "outputs": [],
   "source": [
    "from selenium import webdriver\n",
    "from selenium.webdriver.common.by import By\n",
    "from selenium.webdriver.support.ui import WebDriverWait\n",
    "from selenium.webdriver.support import expected_conditions as EC\n",
    "from selenium.webdriver.common.keys import Keys\n",
    "import time\n",
    "from bs4 import BeautifulSoup\n",
    "import pandas as pd\n",
    "import os"
   ]
  },
  {
   "cell_type": "markdown",
   "id": "1fe5e792",
   "metadata": {},
   "source": [
    "## Retreive All Town Names From Website"
   ]
  },
  {
   "cell_type": "code",
   "execution_count": 16,
   "id": "ebd30234",
   "metadata": {},
   "outputs": [],
   "source": [
    "#Intialize, and set Firefox options\n",
    "options = webdriver.FirefoxOptions()\n",
    "options.add_argument('--ignore-certificate-errors')\n",
    "options.add_argument('--private')\n",
    "#options.add_argument('--headless')\n",
    "\n",
    "#Intialize The Firefox webdriver, and pass in the options\n",
    "driver = webdriver.Firefox(options)\n",
    "\n",
    "#Maximize the browser window\n",
    "driver.maximize_window()\n",
    "\n",
    "#Have the driver go to this website\n",
    "driver.get('https://cteco.uconn.edu/projects/fish/viewer/index.html')\n",
    "\n",
    "#Click the down arrow in the town\n",
    "driver.find_element('xpath',\"//input[contains(@value,'▼ ')]\").click()\n",
    "\n",
    "#Convert the page source code to BeautifulSoup object\n",
    "page_source = driver.page_source\n",
    "soup = BeautifulSoup(page_source,'lxml')\n",
    "\n",
    "#Find, and grab all the town names that exist on the website\n",
    "towns = []\n",
    "html_towns = soup.find_all('div',class_='dijitReset dijitMenuItem')\n",
    "for town in html_towns:\n",
    "    towns.append(town.text)\n",
    "    \n",
    "#Add a delay so to verify everything will run before quitting the driver\n",
    "time.sleep(10)\n",
    "\n",
    "#Quit the selenium driver\n",
    "driver.quit()"
   ]
  },
  {
   "cell_type": "markdown",
   "id": "f0330e8e",
   "metadata": {},
   "source": [
    "## Search and Download All Data on the Town Level"
   ]
  },
  {
   "cell_type": "code",
   "execution_count": 28,
   "id": "49986391",
   "metadata": {},
   "outputs": [],
   "source": [
    "options = webdriver.FirefoxOptions()\n",
    "options.add_argument('--ignore-certificate-errors')\n",
    "options.add_argument('--private')\n",
    "#options.add_argument('--headless') #Set this to be headless if you want\n",
    "driver = webdriver.Firefox(options)\n",
    "driver.maximize_window()\n",
    "\n",
    "\n",
    "#Search on the town level for every town found in the code above\n",
    "for town in towns:\n",
    "    \n",
    "    #Go to the website\n",
    "    driver.get('https://cteco.uconn.edu/projects/fish/viewer/index.html')\n",
    "    time.sleep(10)\n",
    "    \n",
    "    #Wait for search bar element to be present to find it\n",
    "    search_bar = WebDriverWait(driver, 10).until(\n",
    "        EC.presence_of_element_located((By.XPATH, \"//input[contains(@id,'cboTownSel')]\"))\n",
    "    )\n",
    "    \n",
    "    #Clear search bar\n",
    "    search_bar.clear()\n",
    "    \n",
    "    #Enter the town in the search bar\n",
    "    search_bar.send_keys(town + Keys.ENTER)\n",
    "    time.sleep(10)\n",
    "    \n",
    "    #Wait for the apply button to be present to find it\n",
    "    apply_button = WebDriverWait(driver, 10).until(\n",
    "        EC.presence_of_element_located((By.XPATH, \"//*[@id='btnSearch']\"))\n",
    "    )\n",
    "    \n",
    "    #Click the apply button\n",
    "    apply_button.click()\n",
    "    time.sleep(10)\n",
    "    \n",
    "    #Wait for the download results button to be present to click it\n",
    "    download_results = WebDriverWait(driver, 10).until(\n",
    "        EC.presence_of_element_located((By.XPATH, \"//a[@download='townfishresults.csv']\"))\n",
    "        )\n",
    "    \n",
    "    #Click the download results button\n",
    "    download_results.click()\n",
    "    \n",
    "    #Located the recently downloaded file\n",
    "    download_dir = r'C:\\Users\\12034\\Downloads'\n",
    "    downloaded_file_path = os.path.join(download_dir, 'townfishresults.csv')\n",
    "    \n",
    "    #Rename the file to the town its from, and move the file to the project dir\n",
    "    time.sleep(3)\n",
    "    os.rename(downloaded_file_path,os.path.join(os.getcwd(),str(town+'.csv')))\n",
    "    time.sleep(3)\n",
    "    try:\n",
    "        os.remove(downloaded_file_path)\n",
    "    except:\n",
    "        pass\n",
    "    \n",
    "#Quit the selenium driver    \n",
    "driver.quit()"
   ]
  }
 ],
 "metadata": {
  "kernelspec": {
   "display_name": "Python 3 (ipykernel)",
   "language": "python",
   "name": "python3"
  },
  "language_info": {
   "codemirror_mode": {
    "name": "ipython",
    "version": 3
   },
   "file_extension": ".py",
   "mimetype": "text/x-python",
   "name": "python",
   "nbconvert_exporter": "python",
   "pygments_lexer": "ipython3",
   "version": "3.9.12"
  }
 },
 "nbformat": 4,
 "nbformat_minor": 5
}
