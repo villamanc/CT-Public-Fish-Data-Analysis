{
 "cells": [
  {
   "cell_type": "code",
   "execution_count": 1,
   "id": "36e11da7",
   "metadata": {},
   "outputs": [],
   "source": [
    "from selenium import webdriver\n",
    "from selenium.webdriver.common.by import By\n",
    "from selenium.webdriver.support.ui import WebDriverWait\n",
    "from selenium.webdriver.support import expected_conditions as EC\n",
    "from selenium.webdriver.common.keys import Keys\n",
    "import time\n",
    "from bs4 import BeautifulSoup\n",
    "import pandas as pd\n",
    "import os"
   ]
  },
  {
   "cell_type": "markdown",
   "id": "1fe5e792",
   "metadata": {},
   "source": [
    "## Retreive All Town Names From Website"
   ]
  },
  {
   "cell_type": "code",
   "execution_count": 3,
   "id": "ebd30234",
   "metadata": {},
   "outputs": [],
   "source": [
    "options = webdriver.FirefoxOptions()\n",
    "options.add_argument('--ignore-certificate-errors')\n",
    "options.add_argument('--private')\n",
    "#options.add_argument('--headless')\n",
    "driver = webdriver.Firefox(options)\n",
    "driver.maximize_window()\n",
    "driver.get('https://cteco.uconn.edu/projects/fish/viewer/index.html')"
   ]
  },
  {
   "cell_type": "code",
   "execution_count": 4,
   "id": "76bcd78c",
   "metadata": {},
   "outputs": [],
   "source": [
    "#Click the down arrow in the town\n",
    "driver.find_element('xpath',\"//input[contains(@value,'▼ ')]\").click()\n",
    "\n",
    "#Covert to bs4\n",
    "page_source = driver.page_source\n",
    "soup = BeautifulSoup(page_source,'lxml')"
   ]
  },
  {
   "cell_type": "code",
   "execution_count": 12,
   "id": "4160f57c",
   "metadata": {},
   "outputs": [],
   "source": [
    "#Grab all the town names using bs4\n",
    "towns = []\n",
    "html_towns = soup.find_all('div',class_='dijitReset dijitMenuItem')\n",
    "for town in html_towns:\n",
    "    towns.append(town.text)"
   ]
  },
  {
   "cell_type": "code",
   "execution_count": 26,
   "id": "29b4fe36",
   "metadata": {},
   "outputs": [],
   "source": [
    "driver.quit()"
   ]
  },
  {
   "cell_type": "markdown",
   "id": "f0330e8e",
   "metadata": {},
   "source": [
    "## Search and Download All Data on the Town Level"
   ]
  },
  {
   "cell_type": "code",
   "execution_count": 61,
   "id": "49986391",
   "metadata": {},
   "outputs": [
    {
     "ename": "KeyboardInterrupt",
     "evalue": "",
     "output_type": "error",
     "traceback": [
      "\u001b[1;31m---------------------------------------------------------------------------\u001b[0m",
      "\u001b[1;31mKeyboardInterrupt\u001b[0m                         Traceback (most recent call last)",
      "Input \u001b[1;32mIn [61]\u001b[0m, in \u001b[0;36m<cell line: 10>\u001b[1;34m()\u001b[0m\n\u001b[0;32m     10\u001b[0m \u001b[38;5;28;01mfor\u001b[39;00m town \u001b[38;5;129;01min\u001b[39;00m towns:\n\u001b[0;32m     12\u001b[0m     driver\u001b[38;5;241m.\u001b[39mget(\u001b[38;5;124m'\u001b[39m\u001b[38;5;124mhttps://cteco.uconn.edu/projects/fish/viewer/index.html\u001b[39m\u001b[38;5;124m'\u001b[39m)\n\u001b[1;32m---> 13\u001b[0m     \u001b[43mtime\u001b[49m\u001b[38;5;241;43m.\u001b[39;49m\u001b[43msleep\u001b[49m\u001b[43m(\u001b[49m\u001b[38;5;241;43m10\u001b[39;49m\u001b[43m)\u001b[49m\n\u001b[0;32m     15\u001b[0m     \u001b[38;5;66;03m# Wait for the element to be present to find it\u001b[39;00m\n\u001b[0;32m     16\u001b[0m     search_bar \u001b[38;5;241m=\u001b[39m WebDriverWait(driver, \u001b[38;5;241m10\u001b[39m)\u001b[38;5;241m.\u001b[39muntil(\n\u001b[0;32m     17\u001b[0m         EC\u001b[38;5;241m.\u001b[39mpresence_of_element_located((By\u001b[38;5;241m.\u001b[39mXPATH, \u001b[38;5;124m\"\u001b[39m\u001b[38;5;124m//input[contains(@id,\u001b[39m\u001b[38;5;124m'\u001b[39m\u001b[38;5;124mcboTownSel\u001b[39m\u001b[38;5;124m'\u001b[39m\u001b[38;5;124m)]\u001b[39m\u001b[38;5;124m\"\u001b[39m))\n\u001b[0;32m     18\u001b[0m     )\n",
      "\u001b[1;31mKeyboardInterrupt\u001b[0m: "
     ]
    }
   ],
   "source": [
    "options = webdriver.FirefoxOptions()\n",
    "options.add_argument('--ignore-certificate-errors')\n",
    "options.add_argument('--private')\n",
    "#options.add_argument('--headless')\n",
    "driver = webdriver.Firefox(options)\n",
    "driver.maximize_window()\n",
    "\n",
    "\n",
    "count = 0\n",
    "for town in towns:\n",
    "   \n",
    "    driver.get('https://cteco.uconn.edu/projects/fish/viewer/index.html')\n",
    "    time.sleep(10)\n",
    "    \n",
    "    # Wait for the element to be present to find it\n",
    "    search_bar = WebDriverWait(driver, 10).until(\n",
    "        EC.presence_of_element_located((By.XPATH, \"//input[contains(@id,'cboTownSel')]\"))\n",
    "    )\n",
    "    #clear search bar\n",
    "    search_bar.clear()\n",
    "    #enter the town in the search bar\n",
    "    search_bar.send_keys(town + Keys.ENTER)\n",
    "   \n",
    "    time.sleep(10)\n",
    "    #wait for the apply button to be present to find it\n",
    "    apply_button = WebDriverWait(driver, 10).until(\n",
    "        EC.presence_of_element_located((By.XPATH, \"//*[@id='btnSearch']\"))\n",
    "    )\n",
    "    #click the apply button\n",
    "    apply_button.click()\n",
    "    time.sleep(10)\n",
    "    \n",
    "    \n",
    "    download_results = WebDriverWait(driver, 10).until(\n",
    "        EC.presence_of_element_located((By.XPATH, \"//a[@download='townfishresults.csv']\"))\n",
    "        )\n",
    "        #click the apply button\n",
    "    download_results.click()\n",
    "    \n",
    "    #reanme downloaded file\n",
    "    download_dir = r'C:\\Users\\12034\\Downloads'\n",
    "    downloaded_file_path = os.path.join(download_dir, 'townfishresults.csv')\n",
    "    #rename and move the file\n",
    "    os.rename(downloaded_file_path,os.path.join(os.getcwd(),str(town+'.csv')))\n",
    "    \n",
    "    \n",
    "    count = count + 1\n",
    "    if count == 3:\n",
    "        break\n"
   ]
  }
 ],
 "metadata": {
  "kernelspec": {
   "display_name": "Python 3 (ipykernel)",
   "language": "python",
   "name": "python3"
  },
  "language_info": {
   "codemirror_mode": {
    "name": "ipython",
    "version": 3
   },
   "file_extension": ".py",
   "mimetype": "text/x-python",
   "name": "python",
   "nbconvert_exporter": "python",
   "pygments_lexer": "ipython3",
   "version": "3.9.12"
  }
 },
 "nbformat": 4,
 "nbformat_minor": 5
}
